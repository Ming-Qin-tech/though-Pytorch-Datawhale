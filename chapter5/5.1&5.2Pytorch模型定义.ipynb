{
 "cells": [
  {
   "cell_type": "markdown",
   "id": "e2c8945f",
   "metadata": {},
   "source": [
    "- 基于nn.Module，我们可以通过**Sequential，ModuleList和ModuleDict**三种方式定义PyTorch模型。\n",
    "- 下面我们就来逐个探索这三种模型定义方式。\n",
    "### sequential（nn.Sequential）\n",
    "- 当模型的前向计算为简单串联各个层的计算时， Sequential 类可以通过更加简单的方式定义模型。\n",
    "    - 它可以接收一个子模块的有序字典(OrderedDict) 或者一系列子模块作为参数来逐一添加 Module 的实例，\n",
    "    - ⽽模型的前向计算就是将这些实例按添加的顺序逐⼀计算。\n",
    "- 我们结合Sequential和定义方式加以理解：\n",
    "- **我们先自己实现一遍Seuqential方法**"
   ]
  },
  {
   "cell_type": "code",
   "execution_count": 2,
   "id": "6735ade0",
   "metadata": {
    "ExecuteTime": {
     "end_time": "2022-03-15T05:59:06.265824Z",
     "start_time": "2022-03-15T05:59:05.627650Z"
    }
   },
   "outputs": [],
   "source": [
    "import torch\n",
    "from torch import nn\n",
    "\n",
    "class MySequential(nn.Module):\n",
    "    from collections import OrderedDict\n",
    "    def __init__(self, *args):\n",
    "        super(MySequential, self).__init__()\n",
    "        if len(args) == 1 and isinstance(args[0], OrderedDict): \n",
    "            # 如果传入的是一个OrderedDict\n",
    "            for key, modeule in args[0].items():\n",
    "                self.add_module(key, module)\n",
    "                # add_module方法会将module添加进self._modules(一个OrderedDict)\n",
    "        else:# 如果传入的是一些Module而不是OrderedDict\n",
    "            for idx, module in enumerate(args):\n",
    "                self.add_module(str(idx), module)\n",
    "    def forward(self, input):\n",
    "        # self._modules 返回一个OrderedDict,保证会按照成员添加时的顺序遍历\n",
    "        for module in self._modules.values():\n",
    "            input = module(input)\n",
    "        return input"
   ]
  },
  {
   "cell_type": "markdown",
   "id": "e94d3be5",
   "metadata": {},
   "source": [
    "- **下面看直接利用pytorch内置的Sequential方法，简单方便**\n",
    "1. (Sequential使用)直接排列"
   ]
  },
  {
   "cell_type": "code",
   "execution_count": 3,
   "id": "f2679d99",
   "metadata": {
    "ExecuteTime": {
     "end_time": "2022-03-15T06:03:32.964605Z",
     "start_time": "2022-03-15T06:03:32.952531Z"
    }
   },
   "outputs": [
    {
     "name": "stdout",
     "output_type": "stream",
     "text": [
      "Sequential(\n",
      "  (0): Linear(in_features=784, out_features=256, bias=True)\n",
      "  (1): ReLU()\n",
      "  (2): Linear(in_features=256, out_features=10, bias=True)\n",
      ")\n"
     ]
    }
   ],
   "source": [
    "import torch.nn as nn\n",
    "net = nn.Sequential(\n",
    "        nn.Linear(784, 256),\n",
    "        nn.ReLU(),\n",
    "        nn.Linear(256,10),  #注意这里最后有一个逗号\n",
    "        )\n",
    "print(net)"
   ]
  },
  {
   "cell_type": "markdown",
   "id": "da37c38f",
   "metadata": {},
   "source": [
    "- (Sequential使用)使用OrderedDict:\n"
   ]
  },
  {
   "cell_type": "code",
   "execution_count": 4,
   "id": "4b4b0d99",
   "metadata": {
    "ExecuteTime": {
     "end_time": "2022-03-15T06:06:28.748623Z",
     "start_time": "2022-03-15T06:06:28.736370Z"
    }
   },
   "outputs": [
    {
     "name": "stdout",
     "output_type": "stream",
     "text": [
      "Sequential(\n",
      "  (fc1): Linear(in_features=784, out_features=256, bias=True)\n",
      "  (relu1): ReLU()\n",
      "  (fc2): Linear(in_features=256, out_features=10, bias=True)\n",
      ")\n"
     ]
    }
   ],
   "source": [
    "import collections\n",
    "import torch.nn as nn\n",
    "\n",
    "net2 = nn.Sequential(collections.OrderedDict([\n",
    "            ('fc1', nn.Linear(784, 256)),\n",
    "            ('relu1', nn.ReLU()),\n",
    "            ('fc2', nn.Linear(256, 10))\n",
    "            ]))\n",
    "print(net2)"
   ]
  },
  {
   "cell_type": "markdown",
   "id": "eabe94c2",
   "metadata": {},
   "source": [
    "#### summary for Sequential\n",
    "- 优点：\n",
    "    - 使用Sequential定义模型的好处在于简单、易读\n",
    "    - 同时使用Sequential定义的模型不需要再写forward，因为顺序已经定义好了\n",
    "- 缺点：\n",
    "    - 但使用Sequential也会使得模型定义丧失灵活性，比如需要在模型中间加入一个外部输入时就不适合用Sequential的方式实现。\n",
    "\n",
    "- 使用时需根据实际需求加以选择。"
   ]
  },
  {
   "cell_type": "markdown",
   "id": "22b2e352",
   "metadata": {},
   "source": [
    "### ModuleList\n",
    "- 对应模块为nn.ModuleList()\n",
    "- ModuleList接收一个子模块（或层，需属于nn.Module类）的列表作为输入，然后也就可以类似List那样进行append和extend操作。\n",
    "- 同时，子模块或层的权重也会自动添加到网络中来。\n"
   ]
  },
  {
   "cell_type": "code",
   "execution_count": 5,
   "id": "f7bd36d3",
   "metadata": {
    "ExecuteTime": {
     "end_time": "2022-03-15T07:39:01.262127Z",
     "start_time": "2022-03-15T07:39:01.249799Z"
    }
   },
   "outputs": [
    {
     "name": "stdout",
     "output_type": "stream",
     "text": [
      "Linear(in_features=256, out_features=10, bias=True)\n",
      "ModuleList(\n",
      "  (0): Linear(in_features=784, out_features=256, bias=True)\n",
      "  (1): ReLU()\n",
      "  (2): Linear(in_features=256, out_features=10, bias=True)\n",
      ")\n"
     ]
    }
   ],
   "source": [
    "net = nn.ModuleList([nn.Linear(784, 256), nn.ReLU()])\n",
    "net.append(nn.Linear(256, 10))  # # 类似List的append操作\n",
    "print(net[-1])   # 类似List的索引访问\n",
    "print(net)"
   ]
  },
  {
   "cell_type": "markdown",
   "id": "ebeab3ad",
   "metadata": {},
   "source": [
    "- 要特别注意的是，nn.ModuleList 并没有定义一个网络，它只是将不同的模块储存在一起。\n",
    "- **ModuleList中元素的先后顺序并不代表其在网络中的真实位置顺序，需要经过forward函数指定各个层的先后顺序后才算完成了模型的定义**。具体实现时用for循环即可完成：\n",
    "```\n",
    "class model(nn.Module):\n",
    "  def __init__(self, ...):\n",
    "    self.modulelist = ...\n",
    "    ...\n",
    "    \n",
    "  def forward(self, x):\n",
    "    for layer in self.modulelist:\n",
    "      x = layer(x)\n",
    "    return x\n",
    "```"
   ]
  },
  {
   "cell_type": "markdown",
   "id": "575c25ed",
   "metadata": {},
   "source": [
    "### ModuleDict\n",
    "- 对应模块为nn.ModuleDict()。\n",
    "- ModuleDict和ModuleList的作用类似(**和ModuleList的区别：只是ModuleDict能够更方便地为神经网络的层添加名称**)。"
   ]
  },
  {
   "cell_type": "code",
   "execution_count": 7,
   "id": "4f835ba0",
   "metadata": {
    "ExecuteTime": {
     "end_time": "2022-03-15T07:49:26.246617Z",
     "start_time": "2022-03-15T07:49:26.234008Z"
    }
   },
   "outputs": [
    {
     "name": "stdout",
     "output_type": "stream",
     "text": [
      "Linear(in_features=784, out_features=256, bias=True)\n",
      "Linear(in_features=256, out_features=10, bias=True)\n",
      "ModuleDict(\n",
      "  (Linear): Linear(in_features=784, out_features=256, bias=True)\n",
      "  (act): ReLU()\n",
      "  (output): Linear(in_features=256, out_features=10, bias=True)\n",
      ")\n"
     ]
    }
   ],
   "source": [
    "net = nn.ModuleDict({\n",
    "    'Linear':nn.Linear(784, 256),\n",
    "    'act':nn.ReLU(),\n",
    "})\n",
    "net['output'] = nn.Linear(256, 10) # 添加\n",
    "print(net['Linear'])   # 访问\n",
    "print(net.output)\n",
    "print(net)"
   ]
  },
  {
   "cell_type": "markdown",
   "id": "433f5775",
   "metadata": {},
   "source": [
    "- 三种方法的比较和适用场景\n",
    "    - Sequential适用于快速验证结果，因为已经明确了要用哪些层，直接写一下就好了，不需要同时写\\__init__和forward；\n",
    "\n",
    "    - ModuleList和ModuleDict在某个完全相同的层需要重复出现多次时，非常方便实现，可以”一行顶多行“；\n",
    "\n",
    "    - 当我们需要之前层的信息的时候，比如 ResNets 中的 残差计算，当前层的结果需要和之前层中的结果进行融合，一般使用 ModuleList/ModuleDict 比较方便。"
   ]
  },
  {
   "cell_type": "code",
   "execution_count": null,
   "id": "6f96f204",
   "metadata": {},
   "outputs": [],
   "source": []
  },
  {
   "cell_type": "markdown",
   "id": "45a301dc",
   "metadata": {},
   "source": [
    "## 利用模型块快速搭建复杂网络\n",
    "- 当模型的深度非常大时候，使用Sequential定义模型结构需要向其中添加几百行代码，使用起来不甚方便。\n",
    "- 解决方法：\n",
    "    - 对于大部分模型结构（比如ResNet、DenseNet等），我们仔细观察就会发现，虽然模型有很多层， 但是其中有很多重复出现的结构。\n",
    "    - 考虑到每一层有其输入和输出，若干层串联成的”模块“也有其输入和输出，\n",
    "    - 如果我们能将这些重复出现的层定义为一个”模块“，每次只需要向网络中添加对应的模块来构建模型，这样将会极大便利模型构建的过程。\n",
    "    \n",
    "### 学习目标\n",
    "- 利用上一节学到的知识，将简单层构建成具有特定功能的模型块\n",
    "- 利用模型块构建复杂网络\n",
    "---------\n",
    "- UNet是一个复杂且模块重用性比较高的模型（实践）\n",
    "\n",
    "- 这里的基础部件对应上一节分析的四个模型块，根据功能我们将其命名为：**DoubleConv, Down, Up, OutConv**。下面给出U-Net中模型块的PyTorch 实现："
   ]
  },
  {
   "cell_type": "code",
   "execution_count": 8,
   "id": "4e2af678",
   "metadata": {
    "ExecuteTime": {
     "end_time": "2022-03-15T08:17:58.384096Z",
     "start_time": "2022-03-15T08:17:58.378632Z"
    }
   },
   "outputs": [],
   "source": [
    "import torch\n",
    "import torch.nn as nn\n",
    "import torch.nn.functional as F"
   ]
  },
  {
   "cell_type": "code",
   "execution_count": 10,
   "id": "4137a1c1",
   "metadata": {
    "ExecuteTime": {
     "end_time": "2022-03-15T08:24:44.115450Z",
     "start_time": "2022-03-15T08:24:44.104813Z"
    }
   },
   "outputs": [],
   "source": [
    "class DoubleConv(nn. Module):\n",
    "    \"\"\"(convolution => [BN] => ReLU) * 2\"\"\"\n",
    "    \n",
    "    def __init__(self, in_channels, out_channels, mid_channels=None):\n",
    "        super().__init__()\n",
    "        if not mid_channels():\n",
    "            mid_channels = out_channels\n",
    "        self.double_conv = nn.Sequential(\n",
    "            nn.Conv2d(in_channels, mid_channels, kernel_size = 3, padding=1,\n",
    "                     bias=False),\n",
    "            nn.BatchNorm2d(mid_channels),\n",
    "            nn.ReLU(inplace=True),\n",
    "            nn.Conv2d(mid_channels, out_channels, kernel_size=3, padding=1,\n",
    "                     bias = False),\n",
    "            nn.batchNorm2d(out_channels),\n",
    "            nn.ReLU(inplace = True)\n",
    "        )\n",
    "        \n",
    "    def forward(self, x):\n",
    "        return self.double_conv(x)"
   ]
  },
  {
   "cell_type": "code",
   "execution_count": 11,
   "id": "2137e4c6",
   "metadata": {
    "ExecuteTime": {
     "end_time": "2022-03-15T08:28:13.818712Z",
     "start_time": "2022-03-15T08:28:13.810959Z"
    }
   },
   "outputs": [],
   "source": [
    "class Down(nn.Module):\n",
    "    \"\"\"Downscaling with maxpool then double conv\"\"\"\n",
    "    \n",
    "    def __init__(self, in_channels, out_channels):\n",
    "        super().__init__()\n",
    "        self.maxpool_conv = nn.Sequential(\n",
    "            nn.maxPool2d(2),\n",
    "            DoubleConv(in_channels, out_channels)\n",
    "        )\n",
    "        \n",
    "    def forward(self, x):\n",
    "        return self.maxpool_conv(x)"
   ]
  },
  {
   "cell_type": "code",
   "execution_count": 13,
   "id": "d6407787",
   "metadata": {
    "ExecuteTime": {
     "end_time": "2022-03-15T08:56:40.340910Z",
     "start_time": "2022-03-15T08:56:40.327198Z"
    }
   },
   "outputs": [],
   "source": [
    "class Up(nn.Module):\n",
    "    \"\"\"Upscaling then double conv\"\"\"\n",
    "    \n",
    "    def __init__(self, in_channels, out_channels, bilinear=True):\n",
    "        super().__init__()\n",
    "        \n",
    "        # if bililnear, use the normal convolutions to reduce the number of channels\n",
    "        if bilinear():\n",
    "            self.up = nn.Upsample(scale_factor=2, mode='bilinear', \n",
    "                            align_corners=True)\n",
    "            self.conv = DoubleConv(in_channels, out_channels, in_channels //2)\n",
    "        else:\n",
    "            self.up = nn.ConvTranspose2d(in_channels, in_channels//2, kernel_size=2, stride=2)\n",
    "            self.conv = DoubleConv(in_channels, out_channels)\n",
    "            \n",
    "    def forward(self, x1, x2):\n",
    "        x1 = self.up(x1)\n",
    "        # input is CHW\n",
    "        diffY = x2.size()[2] - x1.size()[2]\n",
    "        diffX = X2.size()[3] - x1.size()[3]\n",
    "        \n",
    "        X1 = F.pad(x1, [diffX //2, diffX - diffX // 2,\n",
    "                       diffX //2, diffX - diffX // 2])\n",
    "        x = torch.cat([x2, x1], dim=1)\n",
    "        return self.conv(x)\n",
    "        "
   ]
  },
  {
   "cell_type": "code",
   "execution_count": 14,
   "id": "bcf73373",
   "metadata": {
    "ExecuteTime": {
     "end_time": "2022-03-15T08:56:49.172685Z",
     "start_time": "2022-03-15T08:56:49.165614Z"
    }
   },
   "outputs": [],
   "source": [
    "class OutConv(nn.Module):\n",
    "    def __init__(self, in_channels, out_channels):\n",
    "        super(OutConv, self).__init__()\n",
    "        self.conv = nn.Conv2d(in_channels, out_channels, kernel_size=1)\n",
    "\n",
    "    def forward(self, x):\n",
    "        return self.conv(x)"
   ]
  },
  {
   "cell_type": "markdown",
   "id": "bf64e4b9",
   "metadata": {},
   "source": [
    "### 利用模型块组装U-Net\n",
    "- 使用写好的模型块，可以非常方便地组装U-Net模型。\n",
    "- 可以看到，**通过模型块的方式实现了代码复用，整个模型结构定义所需的代码总行数明显减少，代码可读性也得到了提升**。"
   ]
  },
  {
   "cell_type": "code",
   "execution_count": 16,
   "id": "c8b6f03f",
   "metadata": {
    "ExecuteTime": {
     "end_time": "2022-03-15T09:02:56.267138Z",
     "start_time": "2022-03-15T09:02:56.253222Z"
    }
   },
   "outputs": [],
   "source": [
    "class UNet(nn.Module):\n",
    "    def __init__(self, n_channels, n_classes, bilinear=True):\n",
    "        super(UNet,self).__init__()\n",
    "        self.n_channels = n_channels\n",
    "        self.n_classes = n_classes\n",
    "        self.bilinear = bilinear\n",
    "        \n",
    "        self.inc = DoubleConv(n_channels, 64)\n",
    "        self.down1 = Down(64, 128)\n",
    "        self.down2 = Down(128, 256)\n",
    "        self.down3 = Down(256, 512)\n",
    "        factor = 2 if bilinear else 1\n",
    "        self.up1 = Up(1024, 512 // factor, bilinear)\n",
    "        self.up2 = Up(512, 256 // factor, bilinear)\n",
    "        self.up3 = Up(256, 128 // factor, bilinear)\n",
    "        self.up4 = Up(128, 64, bilinear)\n",
    "        self.outc = OutConv(64, n_classes)\n",
    "\n",
    "    def forward(self,x):\n",
    "        x1 = self.inc(x)\n",
    "        x2 = self.down1(x1)\n",
    "        x3 = self.down2(x2)\n",
    "        x4 = self.down3(x3)\n",
    "        x5 = self.down4(x4)\n",
    "        x = self.up1(x5, x4)\n",
    "        x = self.up2(x, x3)\n",
    "        x = self.up3(x, x2)\n",
    "        x = self.up4(x, x1)\n",
    "        logits = self.outc(x)\n",
    "        return logits"
   ]
  },
  {
   "cell_type": "code",
   "execution_count": null,
   "id": "a6860181",
   "metadata": {},
   "outputs": [],
   "source": []
  }
 ],
 "metadata": {
  "kernelspec": {
   "display_name": "Python [conda env:mtorch]",
   "language": "python",
   "name": "conda-env-mtorch-py"
  },
  "language_info": {
   "codemirror_mode": {
    "name": "ipython",
    "version": 3
   },
   "file_extension": ".py",
   "mimetype": "text/x-python",
   "name": "python",
   "nbconvert_exporter": "python",
   "pygments_lexer": "ipython3",
   "version": "3.8.12"
  }
 },
 "nbformat": 4,
 "nbformat_minor": 5
}
